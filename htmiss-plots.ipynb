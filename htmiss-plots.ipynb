{
 "cells": [
  {
   "cell_type": "code",
   "execution_count": 1,
   "metadata": {},
   "outputs": [],
   "source": [
    "import uproot"
   ]
  },
  {
   "cell_type": "code",
   "execution_count": 35,
   "metadata": {},
   "outputs": [],
   "source": [
    "tree = uproot.open(\"/afs/cern.ch/work/m/mproffit/public/calratio/signal_HSS_LLP_mH1000_mS50_lt9m_ntuples2016dataAnalysis_paperVersion.root\")[\"recoTree\"]"
   ]
  },
  {
   "cell_type": "code",
   "execution_count": 3,
   "metadata": {},
   "outputs": [
    {
     "data": {
      "text/plain": [
       "[b'eventNumber',\n",
       " b'eventCount',\n",
       " b'runNumber',\n",
       " b'lumiBlock',\n",
       " b'backgroundFlags',\n",
       " b'eventWeight',\n",
       " b'pdfEventWeights',\n",
       " b'pileupEventWeight',\n",
       " b'xSecEventWeight',\n",
       " b'actualIntPerCrossing',\n",
       " b'averageIntPerCrossing',\n",
       " b'event_NCleanJets',\n",
       " b'event_NJets',\n",
       " b'event_NCleanJets',\n",
       " b'event_HT',\n",
       " b'event_MHToHT',\n",
       " b'event_HTMiss',\n",
       " b'event_Meff',\n",
       " b'event_sumMinDR',\n",
       " b'METCST_met',\n",
       " b'METTST_met',\n",
       " b'event_tauRoI_maxET',\n",
       " b'event_passL1TAU60',\n",
       " b'event_passL1LLPNOMATCH',\n",
       " b'event_passEmulationL1LLPNOMATCH',\n",
       " b'event_passL1LLPRO',\n",
       " b'event_passCalRatio_cleanLLP_TAU60',\n",
       " b'event_passCalRatio_cleanLLP_TAU60_noiso',\n",
       " b'event_passCalRatio_cleanLLP_LLPNOMATCH',\n",
       " b'event_passCalRatio_cleanLLP_LLPNOMATCH_noiso',\n",
       " b'event_passEmulationCalRatio_cleanLLP_LLPNOMATCH_noiso',\n",
       " b'event_passJ320_bperf_split',\n",
       " b'dPhiLeadBDTsignalWeight_cleanJet',\n",
       " b'dRLeadBDTsignalWeight_cleanJet',\n",
       " b'dPhiLeadBDTmultijetsWeight_cleanJet',\n",
       " b'dRLeadBDTmultijetsWeight_cleanJet',\n",
       " b'dPhiLeadBDTbibWeight_cleanJet',\n",
       " b'dRLeadBDTbibWeight_cleanJet',\n",
       " b'event_BDTtau60',\n",
       " b'event_BDTllpnm',\n",
       " b'BDT3weights_signal_cleanJet_index',\n",
       " b'BDT3weights_multijets_cleanJet_index',\n",
       " b'BDT3weights_bib_cleanJet_index',\n",
       " b'CalibJet_isGoodStand',\n",
       " b'CalibJet_isGoodLLP',\n",
       " b'CalibJet_E',\n",
       " b'CalibJet_E_EMScale',\n",
       " b'CalibJet_ET',\n",
       " b'CalibJet_pT',\n",
       " b'CalibJet_eta',\n",
       " b'CalibJet_phi',\n",
       " b'CalibJet_width',\n",
       " b'CalibJet_logRatio',\n",
       " b'CalibJet_time',\n",
       " b'CalibJet_BDT3weights_signal',\n",
       " b'CalibJet_BDT3weights_multijets',\n",
       " b'CalibJet_BDT3weights_bib',\n",
       " b'CalibJet_isCRHLTJet',\n",
       " b'CalibJet_indexLLP',\n",
       " b'CalibJet_nTrk',\n",
       " b'CalibJet_sumTrkpT',\n",
       " b'CalibJet_maxTrkpT',\n",
       " b'CalibJet_minDRTrkpt2',\n",
       " b'CalibJet_BIBDeltaTimingM',\n",
       " b'CalibJet_BIBDeltaTimingP',\n",
       " b'CalibJet_cluster_nClusters',\n",
       " b'CalibJet_cluster_lead_center',\n",
       " b'CalibJet_cluster_lead_z',\n",
       " b'CalibJet_cluster_lead_r',\n",
       " b'CalibJet_cluster_lead_Lxy',\n",
       " b'CalibJet_cluster_lead_pT',\n",
       " b'CalibJet_cluster_lead_eta',\n",
       " b'CalibJet_cluster_lead_phi',\n",
       " b'CalibJet_cluster_lead_time',\n",
       " b'CalibJet_cluster_lead_lambda',\n",
       " b'CalibJet_cluster_lead_lateral',\n",
       " b'CalibJet_cluster_lead_longitudinal',\n",
       " b'CalibJet_cluster_lead_first_Eden',\n",
       " b'CalibJet_Reg_Lxy',\n",
       " b'CalibJet_Reg_Lz',\n",
       " b'CalibJet_f_EH_layer0_cenbar',\n",
       " b'CalibJet_f_EH_layer1_cenbar',\n",
       " b'CalibJet_f_EH_layer2_cenbar',\n",
       " b'CalibJet_f_EH_layer1_tilegap',\n",
       " b'CalibJet_f_EH_layer2_tilegap',\n",
       " b'CalibJet_f_EH_layer3_tilegap',\n",
       " b'CalibJet_f_EH_layer0_extbar',\n",
       " b'CalibJet_f_EH_layer1_extbar',\n",
       " b'CalibJet_f_EH_layer2_extbar',\n",
       " b'CalibJet_f_EH_layer0_end',\n",
       " b'CalibJet_f_EH_layer1_end',\n",
       " b'CalibJet_f_EH_layer2_end',\n",
       " b'CalibJet_f_EH_layer3_end',\n",
       " b'CalibJet_f_EEM_layer0_bar',\n",
       " b'CalibJet_f_EEM_layer1_bar',\n",
       " b'CalibJet_f_EEM_layer2_bar',\n",
       " b'CalibJet_f_EEM_layer3_bar',\n",
       " b'CalibJet_f_EEM_layer0_end',\n",
       " b'CalibJet_f_EEM_layer1_end',\n",
       " b'CalibJet_f_EEM_layer2_end',\n",
       " b'CalibJet_f_EEM_layer3_end',\n",
       " b'CalibJet_f_EH_l1frac',\n",
       " b'CalibJet_Lxy',\n",
       " b'CalibJet_Lz',\n",
       " b'CR_HLT_TAU60',\n",
       " b'CR_HLT_LLPNOMATCH',\n",
       " b'CR_HLT_bibalgo',\n",
       " b'CR_HLT_pT',\n",
       " b'CR_HLT_eta',\n",
       " b'CR_HLT_phi',\n",
       " b'CR_HLT_logR',\n",
       " b'CR_HLT_minDR_HLTtracks',\n",
       " b'CR_HLT_matchOff',\n",
       " b'CR_HLT_Timing',\n",
       " b'CR_HLT_LLP_Lxy',\n",
       " b'CR_HLT_LLP_Lz',\n",
       " b'LLP_E',\n",
       " b'LLP_pT',\n",
       " b'LLP_eta',\n",
       " b'LLP_phi',\n",
       " b'LLP_beta',\n",
       " b'LLP_timing',\n",
       " b'LLP_Lxy',\n",
       " b'LLP_Lz',\n",
       " b'LLP_dR_Jet',\n",
       " b'LLP_dR_2nd_Jet',\n",
       " b'LLP_ind_1st_Jet',\n",
       " b'LLP_ind_2nd_Jet',\n",
       " b'LLP_dR_pairJets',\n",
       " b'LLP_M_pairJets',\n",
       " b'TruthParticle_pdgid',\n",
       " b'TruthParticle_E',\n",
       " b'TruthParticle_pT',\n",
       " b'TruthParticle_eta',\n",
       " b'TruthParticle_phi',\n",
       " b'TruthParticle_beta',\n",
       " b'TruthParticle_gamma',\n",
       " b'event_truth_Meff',\n",
       " b'event_truth_dPhiLLPs',\n",
       " b'event_truth_dRLLPs']"
      ]
     },
     "execution_count": 3,
     "metadata": {},
     "output_type": "execute_result"
    }
   ],
   "source": [
    "tree.keys()"
   ]
  },
  {
   "cell_type": "code",
   "execution_count": 4,
   "metadata": {},
   "outputs": [],
   "source": [
    "import matplotlib.pyplot as plt"
   ]
  },
  {
   "cell_type": "code",
   "execution_count": 54,
   "metadata": {},
   "outputs": [
    {
     "data": {
      "text/plain": [
       "Text(0, 0.5, 'Number of events')"
      ]
     },
     "execution_count": 54,
     "metadata": {},
     "output_type": "execute_result"
    },
    {
     "data": {
      "image/png": "[encoded data removed]",
      "text/plain": [
       "<Figure size 432x288 with 1 Axes>"
      ]
     },
     "metadata": {
      "needs_background": "light"
     },
     "output_type": "display_data"
    }
   ],
   "source": [
    "plt.hist(tree.array(\"event_HTMiss\"), 100, (0,1000))\n",
    "plt.title(\"No cuts\")\n",
    "plt.xlabel(\"HTMiss\")\n",
    "plt.ylabel(\"Number of events\")"
   ]
  },
  {
   "cell_type": "code",
   "execution_count": 6,
   "metadata": {},
   "outputs": [],
   "source": [
    "import numpy as np"
   ]
  },
  {
   "cell_type": "code",
   "execution_count": 56,
   "metadata": {},
   "outputs": [
    {
     "name": "stdout",
     "output_type": "stream",
     "text": [
      "Number of events after cut: 76482\n"
     ]
    },
    {
     "data": {
      "image/png": "[encoded data removed]",
      "text/plain": [
       "<Figure size 432x288 with 1 Axes>"
      ]
     },
     "metadata": {
      "needs_background": "light"
     },
     "output_type": "display_data"
    }
   ],
   "source": [
    "HTMiss_passing_cut = []\n",
    "HTMiss_array, CalibJet_pT_array = tree.arrays([\"event_HTMiss\", \"CalibJet_pT\"], outputtype=tuple)\n",
    "for HTMiss, CalibJet_pT in zip(HTMiss_array, CalibJet_pT_array):\n",
    "    if np.count_nonzero(CalibJet_pT > 100) >= 2:\n",
    "        HTMiss_passing_cut.append(HTMiss)\n",
    "plt.hist(HTMiss_passing_cut, 100, (0,1000))\n",
    "plt.title(\"After cut\")\n",
    "plt.xlabel(\"HTMiss\")\n",
    "plt.ylabel(\"Number of events\")\n",
    "print(\"Number of events after cut:\", len(HTMiss_passing_cut))"
   ]
  },
  {
   "cell_type": "code",
   "execution_count": null,
   "metadata": {},
   "outputs": [],
   "source": []
  }
 ],
 "metadata": {
  "kernelspec": {
   "display_name": "Python 3",
   "language": "python",
   "name": "python3"
  },
  "language_info": {
   "codemirror_mode": {
    "name": "ipython",
    "version": 3
   },
   "file_extension": ".py",
   "mimetype": "text/x-python",
   "name": "python",
   "nbconvert_exporter": "python",
   "pygments_lexer": "ipython3",
   "version": "3.7.1"
  }
 },
 "nbformat": 4,
 "nbformat_minor": 2
}
